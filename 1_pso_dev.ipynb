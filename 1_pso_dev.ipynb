{
 "cells": [
  {
   "cell_type": "code",
   "execution_count": 133,
   "metadata": {
    "ExecuteTime": {
     "end_time": "2018-08-12T04:01:32.591627Z",
     "start_time": "2018-08-12T04:01:32.560112Z"
    }
   },
   "outputs": [
    {
     "name": "stdout",
     "output_type": "stream",
     "text": [
      "The autoreload extension is already loaded. To reload it, use:\n",
      "  %reload_ext autoreload\n"
     ]
    }
   ],
   "source": [
    "%load_ext autoreload\n",
    "%autoreload 2"
   ]
  },
  {
   "cell_type": "code",
   "execution_count": 134,
   "metadata": {
    "ExecuteTime": {
     "end_time": "2018-08-12T04:01:32.851190Z",
     "start_time": "2018-08-12T04:01:32.822219Z"
    }
   },
   "outputs": [],
   "source": [
    "import os\n",
    "import sys\n",
    "\n",
    "import numpy as np\n",
    "\n",
    "from pso import ParticleSwarm"
   ]
  },
  {
   "cell_type": "code",
   "execution_count": 4,
   "metadata": {
    "ExecuteTime": {
     "end_time": "2018-08-11T12:36:37.013325Z",
     "start_time": "2018-08-11T12:36:36.990599Z"
    }
   },
   "outputs": [],
   "source": [
    "def f(x0, x1):\n",
    "    return 2*x0*x1**2 + 16*x0*x1 + 29*x0 + 12*x1 + 10 "
   ]
  },
  {
   "cell_type": "code",
   "execution_count": 221,
   "metadata": {
    "ExecuteTime": {
     "end_time": "2018-08-11T05:55:28.518864Z",
     "start_time": "2018-08-11T05:55:28.495258Z"
    }
   },
   "outputs": [
    {
     "data": {
      "text/plain": [
       "2075"
      ]
     },
     "execution_count": 221,
     "metadata": {},
     "output_type": "execute_result"
    }
   ],
   "source": [
    "f(*[5, 10])"
   ]
  },
  {
   "cell_type": "code",
   "execution_count": 40,
   "metadata": {
    "ExecuteTime": {
     "end_time": "2018-08-11T12:53:49.427427Z",
     "start_time": "2018-08-11T12:53:48.091102Z"
    }
   },
   "outputs": [
    {
     "name": "stdout",
     "output_type": "stream",
     "text": [
      "Updating iteration 1000 out of 1000 (100.0%)\r"
     ]
    },
    {
     "data": {
      "text/plain": [
       "{'best_position': array([-77195.5996754 ,    415.03384176]),\n",
       " 'best_score': -27109215389.754498,\n",
       " 'total_time': 1.3091027736663818}"
      ]
     },
     "execution_count": 40,
     "metadata": {},
     "output_type": "execute_result"
    }
   ],
   "source": [
    "pso = ParticleSwarm(fitness_func=f, dimensions=2, X_range=[[0, 20], [40, 70]],\n",
    "                    pop_size=100, random_state=42, vectorised=True)\n",
    "\n",
    "pso.optimise(n_iterations=1000)"
   ]
  },
  {
   "cell_type": "code",
   "execution_count": 100,
   "metadata": {
    "ExecuteTime": {
     "end_time": "2018-08-11T13:32:16.162149Z",
     "start_time": "2018-08-11T13:32:16.138564Z"
    }
   },
   "outputs": [
    {
     "data": {
      "text/plain": [
       "0"
      ]
     },
     "execution_count": 100,
     "metadata": {},
     "output_type": "execute_result"
    }
   ],
   "source": [
    "np.array([0.1, 0.2]).argmin()"
   ]
  },
  {
   "cell_type": "code",
   "execution_count": 131,
   "metadata": {
    "ExecuteTime": {
     "end_time": "2018-08-11T13:50:20.610744Z",
     "start_time": "2018-08-11T13:50:15.819831Z"
    },
    "scrolled": true
   },
   "outputs": [
    {
     "name": "stdout",
     "output_type": "stream",
     "text": [
      "Updated iteration 1967 out of 2000 (98.4%) --- Best fitness score: -0.9900334674574226\r"
     ]
    },
    {
     "name": "stderr",
     "output_type": "stream",
     "text": [
      "/Users/ryan/anaconda/lib/python3.6/site-packages/ipykernel/__main__.py:4: RuntimeWarning: overflow encountered in double_scalars\n"
     ]
    },
    {
     "name": "stdout",
     "output_type": "stream",
     "text": [
      "Updated iteration 2000 out of 2000 (100.0%) --- Best fitness score: -0.9900334674574226\r"
     ]
    },
    {
     "data": {
      "text/plain": [
       "{'best_position': array([-0.27905706,  0.14009854]),\n",
       " 'best_score': -0.9900334674574226,\n",
       " 'total_time': 4.748584270477295}"
      ]
     },
     "execution_count": 131,
     "metadata": {},
     "output_type": "execute_result"
    }
   ],
   "source": [
    "def f6(x1, x2):\n",
    "    para = np.array([x1, x2]) * 10\n",
    "    num = (sin(sqrt((para[0] * para[0]) + (para[1] * para[1])))) * \\\n",
    "        (sin(sqrt((para[0] * para[0]) + (para[1] * para[1])))) - 0.5\n",
    "    denom = (1.0 + 0.001 * ((para[0] * para[0]) + (para[1] * para[1]))) * \\\n",
    "            (1.0 + 0.001 * ((para[0] * para[0]) + (para[1] * para[1])))\n",
    "    f6 = 0.5 - (num / denom)\n",
    "    return -f6\n",
    "\n",
    "\n",
    "pso = ParticleSwarm(fitness_func=f6, dimensions=2, X_range=[[0., 1.], [0., 1.]],\n",
    "                    pop_size=100, random_state=None, vectorised=False)\n",
    "\n",
    "pso.optimise(n_iterations=2000)"
   ]
  },
  {
   "cell_type": "code",
   "execution_count": 129,
   "metadata": {
    "ExecuteTime": {
     "end_time": "2018-08-11T13:49:06.983910Z",
     "start_time": "2018-08-11T13:49:04.228433Z"
    }
   },
   "outputs": [
    {
     "name": "stdout",
     "output_type": "stream",
     "text": [
      ".\n",
      ".\n",
      ".\n",
      ".\n",
      ".\n",
      ".\n",
      ".\n",
      ".\n",
      ".\n",
      ".\n",
      "\n",
      "Particle Swarm Optimisation\n",
      "\n",
      "PARAMETERS\n",
      " ---------\n",
      "Population size :  100\n",
      "Dimensions      :  2\n",
      "Error Criterion :  0\n",
      "c1              :  2\n",
      "c2              :  2\n",
      "function        :  f6\n",
      "RESULTS\n",
      " -------\n",
      "gbest fitness   :  -0.9902840901224856\n",
      "gbest params    :  [0.22789092 0.21579295]\n",
      "iterations      :  2001\n"
     ]
    }
   ],
   "source": [
    "from numpy import *\n",
    "from random import random\n",
    "from math import sin, sqrt\n",
    "\n",
    "iter_max = 2000\n",
    "pop_size = 100\n",
    "dimensions = 2\n",
    "c1 = 2\n",
    "c2 = 2\n",
    "err_crit = 0\n",
    "\n",
    "class Particle:\n",
    "    pass\n",
    " \n",
    "#initialize the particles\n",
    "particles = []\n",
    "for i in range(pop_size):\n",
    "    p = Particle()\n",
    "    p.params = array([random() for i in range(dimensions)])\n",
    "    p.fitness = 0.0\n",
    "    p.v = 0.0\n",
    "    particles.append(p)\n",
    "\n",
    "# let the first particle be the global best\n",
    "gbest = particles[0]\n",
    "err = 999999999\n",
    "while i < iter_max :\n",
    "    for p in particles:\n",
    "        fitness = f6(*p.params)\n",
    "        if fitness < p.fitness:\n",
    "            p.fitness = fitness\n",
    "            p.best = p.params\n",
    "\n",
    "        if fitness < gbest.fitness:\n",
    "            gbest = p\n",
    "        v = p.v + c1 * random() * (p.best - p.params) \\\n",
    "                + c2 * random() * (gbest.params - p.params)\n",
    "        p.params = p.params + v\n",
    "          \n",
    "    i  += 1\n",
    "    #progress bar. '.' = 10%\n",
    "    if i % (iter_max/10) == 0:\n",
    "        print('.')\n",
    "\n",
    "print('\\nParticle Swarm Optimisation\\n')\n",
    "print('PARAMETERS\\n','-'*9)\n",
    "print('Population size : ', pop_size)\n",
    "print('Dimensions      : ', dimensions)\n",
    "print('Error Criterion : ', err_crit)\n",
    "print('c1              : ', c1)\n",
    "print('c2              : ', c2)\n",
    "print('function        :  f6')\n",
    "print('RESULTS\\n', '-'*7)\n",
    "print('gbest fitness   : ', gbest.fitness)\n",
    "print('gbest params    : ', gbest.params)\n",
    "print('iterations      : ', i+1)"
   ]
  },
  {
   "cell_type": "code",
   "execution_count": null,
   "metadata": {},
   "outputs": [],
   "source": []
  }
 ],
 "metadata": {
  "kernelspec": {
   "display_name": "Python 3",
   "language": "python",
   "name": "python3"
  },
  "language_info": {
   "codemirror_mode": {
    "name": "ipython",
    "version": 3
   },
   "file_extension": ".py",
   "mimetype": "text/x-python",
   "name": "python",
   "nbconvert_exporter": "python",
   "pygments_lexer": "ipython3",
   "version": "3.6.2"
  },
  "toc": {
   "base_numbering": 1,
   "nav_menu": {},
   "number_sections": true,
   "sideBar": true,
   "skip_h1_title": false,
   "title_cell": "Table of Contents",
   "title_sidebar": "Contents",
   "toc_cell": false,
   "toc_position": {},
   "toc_section_display": true,
   "toc_window_display": false
  }
 },
 "nbformat": 4,
 "nbformat_minor": 2
}
