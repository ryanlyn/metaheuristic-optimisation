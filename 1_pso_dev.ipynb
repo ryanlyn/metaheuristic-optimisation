{
 "cells": [
  {
   "cell_type": "code",
   "execution_count": 1,
   "metadata": {
    "ExecuteTime": {
     "end_time": "2018-08-11T03:37:25.004576Z",
     "start_time": "2018-08-11T03:37:24.972511Z"
    }
   },
   "outputs": [],
   "source": [
    "%load_ext autoreload\n",
    "%autoreload 2"
   ]
  },
  {
   "cell_type": "code",
   "execution_count": 25,
   "metadata": {
    "ExecuteTime": {
     "end_time": "2018-08-11T03:43:22.957606Z",
     "start_time": "2018-08-11T03:43:22.932075Z"
    }
   },
   "outputs": [],
   "source": [
    "import os\n",
    "import sys\n",
    "\n",
    "import numpy as np\n",
    "\n",
    "from pso import ParticleSwarm"
   ]
  },
  {
   "cell_type": "code",
   "execution_count": 73,
   "metadata": {
    "ExecuteTime": {
     "end_time": "2018-08-11T04:20:55.048827Z",
     "start_time": "2018-08-11T04:20:55.024594Z"
    }
   },
   "outputs": [],
   "source": [
    "def f(x0, x1):\n",
    "    return 2*x0*x1**2 + 16*x0*x1 + 29*x0 + 12*x1 + 10 "
   ]
  },
  {
   "cell_type": "code",
   "execution_count": 74,
   "metadata": {
    "ExecuteTime": {
     "end_time": "2018-08-11T04:20:55.222124Z",
     "start_time": "2018-08-11T04:20:55.195650Z"
    }
   },
   "outputs": [
    {
     "data": {
      "text/plain": [
       "2075"
      ]
     },
     "execution_count": 74,
     "metadata": {},
     "output_type": "execute_result"
    }
   ],
   "source": [
    "f(*[5, 10])"
   ]
  },
  {
   "cell_type": "code",
   "execution_count": 192,
   "metadata": {
    "ExecuteTime": {
     "end_time": "2018-08-11T05:40:58.718825Z",
     "start_time": "2018-08-11T05:40:58.695949Z"
    }
   },
   "outputs": [],
   "source": [
    "pso = ParticleSwarm(fitness_func=f, X_0=[5, 55], X_range=[[0, 20], [40, 70]],\n",
    "                    n_particles=100, random_state=42)"
   ]
  },
  {
   "cell_type": "code",
   "execution_count": 202,
   "metadata": {
    "ExecuteTime": {
     "end_time": "2018-08-11T05:44:19.083681Z",
     "start_time": "2018-08-11T05:44:17.931910Z"
    }
   },
   "outputs": [
    {
     "name": "stdout",
     "output_type": "stream",
     "text": [
      "Updating iteration 1000 out of 1000 (100.0%)\r"
     ]
    },
    {
     "data": {
      "text/plain": [
       "{'best_position': array([-77195.5996754 ,    415.03384176]),\n",
       " 'best_score': -27109215389.754498,\n",
       " 'total_time': 1.124579906463623}"
      ]
     },
     "execution_count": 202,
     "metadata": {},
     "output_type": "execute_result"
    }
   ],
   "source": [
    "pso.optimise(n_iterations=1000)"
   ]
  },
  {
   "cell_type": "code",
   "execution_count": null,
   "metadata": {},
   "outputs": [],
   "source": []
  }
 ],
 "metadata": {
  "kernelspec": {
   "display_name": "Python 3",
   "language": "python",
   "name": "python3"
  },
  "language_info": {
   "codemirror_mode": {
    "name": "ipython",
    "version": 3
   },
   "file_extension": ".py",
   "mimetype": "text/x-python",
   "name": "python",
   "nbconvert_exporter": "python",
   "pygments_lexer": "ipython3",
   "version": "3.6.2"
  },
  "toc": {
   "base_numbering": 1,
   "nav_menu": {},
   "number_sections": true,
   "sideBar": true,
   "skip_h1_title": false,
   "title_cell": "Table of Contents",
   "title_sidebar": "Contents",
   "toc_cell": false,
   "toc_position": {},
   "toc_section_display": true,
   "toc_window_display": false
  }
 },
 "nbformat": 4,
 "nbformat_minor": 2
}
