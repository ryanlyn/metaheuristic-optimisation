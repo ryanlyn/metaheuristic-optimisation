{
 "cells": [
  {
   "cell_type": "code",
   "execution_count": 1,
   "metadata": {
    "ExecuteTime": {
     "end_time": "2018-08-11T03:37:25.004576Z",
     "start_time": "2018-08-11T03:37:24.972511Z"
    }
   },
   "outputs": [],
   "source": [
    "%load_ext autoreload\n",
    "%autoreload 2"
   ]
  },
  {
   "cell_type": "code",
   "execution_count": 25,
   "metadata": {
    "ExecuteTime": {
     "end_time": "2018-08-11T03:43:22.957606Z",
     "start_time": "2018-08-11T03:43:22.932075Z"
    }
   },
   "outputs": [],
   "source": [
    "import os\n",
    "import sys\n",
    "\n",
    "import numpy as np\n",
    "\n",
    "from pso import ParticleSwarm"
   ]
  },
  {
   "cell_type": "code",
   "execution_count": 73,
   "metadata": {
    "ExecuteTime": {
     "end_time": "2018-08-11T04:20:55.048827Z",
     "start_time": "2018-08-11T04:20:55.024594Z"
    }
   },
   "outputs": [],
   "source": [
    "def f(x0, x1):\n",
    "    return 2*x0*x1**2 + 16*x0*x1 + 29*x0 + 12*x1 + 10 "
   ]
  },
  {
   "cell_type": "code",
   "execution_count": 74,
   "metadata": {
    "ExecuteTime": {
     "end_time": "2018-08-11T04:20:55.222124Z",
     "start_time": "2018-08-11T04:20:55.195650Z"
    }
   },
   "outputs": [
    {
     "data": {
      "text/plain": [
       "2075"
      ]
     },
     "execution_count": 74,
     "metadata": {},
     "output_type": "execute_result"
    }
   ],
   "source": [
    "f(*[5, 10])"
   ]
  },
  {
   "cell_type": "code",
   "execution_count": 165,
   "metadata": {
    "ExecuteTime": {
     "end_time": "2018-08-11T05:33:06.019430Z",
     "start_time": "2018-08-11T05:33:05.996947Z"
    }
   },
   "outputs": [],
   "source": [
    "pso = ParticleSwarm(fitness_func=f, X_0=[5, 55], X_range=[[0, 20], [40, 70]],\n",
    "                    n_particles=100, random_state=42)"
   ]
  },
  {
   "cell_type": "code",
   "execution_count": 166,
   "metadata": {
    "ExecuteTime": {
     "end_time": "2018-08-11T05:33:06.809046Z",
     "start_time": "2018-08-11T05:33:06.726882Z"
    },
    "scrolled": true
   },
   "outputs": [
    {
     "name": "stdout",
     "output_type": "stream",
     "text": [
      "Swarm Score: 189369.14676211262\n",
      "Swarm Position: [18.78997883 66.84482051]\n",
      "Swarm Score: 189369.14676211262\n",
      "Swarm Position: [18.78997883 66.84482051]\n",
      "Swarm Score: 147761.03674838124\n",
      "Swarm Position: [19.26164358 57.7969712 ]\n",
      "Swarm Score: 98613.37034361152\n",
      "Swarm Position: [18.06323728 48.1048447 ]\n",
      "Swarm Score: 77951.63929617892\n",
      "Swarm Position: [ 4.62912178 87.14367743]\n",
      "Swarm Score: 67756.95024272864\n",
      "Swarm Position: [ 8.05690154 60.50366938]\n",
      "Swarm Score: 56700.60499281621\n",
      "Swarm Position: [17.84075058 35.72757114]\n",
      "Swarm Score: 43050.2066198543\n",
      "Swarm Position: [24.68213514 25.44832093]\n",
      "Swarm Score: 25949.816029419653\n",
      "Swarm Position: [ 40.47884531 -22.03268736]\n",
      "Swarm Score: 25949.816029419653\n",
      "Swarm Position: [ 40.47884531 -22.03268736]\n",
      "Swarm Score: 17966.470112068357\n",
      "Swarm Position: [  5.30156226 -45.79516396]\n",
      "Swarm Score: 2114.3107554884837\n",
      "Swarm Position: [98.67922413 -7.55269006]\n",
      "Swarm Score: 1529.4511448140652\n",
      "Swarm Position: [92.50853741 -7.19043176]\n",
      "Swarm Score: 1529.4511448140652\n",
      "Swarm Position: [92.50853741 -7.19043176]\n",
      "Swarm Score: 1529.4511448140652\n",
      "Swarm Position: [92.50853741 -7.19043176]\n",
      "Swarm Score: 214.68081440214894\n",
      "Swarm Position: [37.47138981 -1.8714281 ]\n",
      "Swarm Score: 214.68081440214894\n",
      "Swarm Position: [37.47138981 -1.8714281 ]\n",
      "Swarm Score: 214.68081440214894\n",
      "Swarm Position: [37.47138981 -1.8714281 ]\n",
      "Swarm Score: 214.68081440214894\n",
      "Swarm Position: [37.47138981 -1.8714281 ]\n",
      "Swarm Score: -698.2638279830057\n",
      "Swarm Position: [ -3.26862284 -13.24794331]\n",
      "Swarm Score: -13626.934874834244\n",
      "Swarm Position: [-55.33674698   7.20261899]\n",
      "Swarm Score: -13707.573059520133\n",
      "Swarm Position: [-65.87788958   6.3047492 ]\n",
      "Swarm Score: -17769.24937735738\n",
      "Swarm Position: [-118.95406381    4.74476417]\n",
      "Swarm Score: -17769.24937735738\n",
      "Swarm Position: [-118.95406381    4.74476417]\n",
      "Swarm Score: -17769.24937735738\n",
      "Swarm Position: [-118.95406381    4.74476417]\n",
      "Swarm Score: -17769.24937735738\n",
      "Swarm Position: [-118.95406381    4.74476417]\n",
      "Swarm Score: -29277.250293270736\n",
      "Swarm Position: [-128.74918255    6.74951902]\n",
      "Swarm Score: -51164.57864781304\n",
      "Swarm Position: [-207.95457874    7.16913292]\n",
      "Swarm Score: -76168.0803675226\n",
      "Swarm Position: [-287.15997493    7.58874682]\n",
      "Swarm Score: -104455.10931660474\n",
      "Swarm Position: [-366.36537112    8.00836071]\n",
      "Swarm Score: -136193.0193592646\n",
      "Swarm Position: [-445.57076731    8.42797461]\n",
      "Swarm Score: -171549.16435970756\n",
      "Swarm Position: [-524.7761635     8.84758851]\n",
      "Swarm Score: -210690.8981821389\n",
      "Swarm Position: [-603.98155969    9.26720241]\n",
      "Swarm Score: -253785.57469076378\n",
      "Swarm Position: [-683.18695588    9.68681631]\n",
      "Swarm Score: -301000.54774978745\n",
      "Swarm Position: [-762.39235207   10.1064302 ]\n",
      "Swarm Score: -352503.1712234153\n",
      "Swarm Position: [-841.59774826   10.5260441 ]\n",
      "Swarm Score: -408460.79897585243\n",
      "Swarm Position: [-920.80314445   10.945658  ]\n",
      "Swarm Score: -469040.78487130423\n",
      "Swarm Position: [-1000.00854064    11.3652719 ]\n",
      "Swarm Score: -534410.4827739759\n",
      "Swarm Position: [-1079.21393683    11.7848858 ]\n",
      "Swarm Score: -604737.2465480728\n",
      "Swarm Position: [-1158.41933302    12.20449969]\n",
      "Swarm Score: -680188.4300577999\n",
      "Swarm Position: [-1237.62472921    12.62411359]\n",
      "Swarm Score: -760931.3871673627\n",
      "Swarm Position: [-1316.8301254     13.04372749]\n",
      "Swarm Score: -847133.4717409668\n",
      "Swarm Position: [-1396.03552159    13.46334139]\n",
      "Swarm Score: -938962.0376428168\n",
      "Swarm Position: [-1475.24091778    13.88295529]\n",
      "Swarm Score: -1036584.4387371182\n",
      "Swarm Position: [-1554.44631397    14.30256918]\n",
      "Swarm Score: -1140168.0288880765\n",
      "Swarm Position: [-1633.65171016    14.72218308]\n",
      "Swarm Score: -1249880.1619598966\n",
      "Swarm Position: [-1712.85710635    15.14179698]\n",
      "Swarm Score: -1365888.191816784\n",
      "Swarm Position: [-1792.06250254    15.56141088]\n",
      "Swarm Score: -1488359.4723229436\n",
      "Swarm Position: [-1871.26789873    15.98102478]\n",
      "Swarm Score: -1617461.3573425815\n",
      "Swarm Position: [-1950.47329492    16.40063867]\n",
      "Swarm Score: -1753361.200739902\n",
      "Swarm Position: [-2029.67869111    16.82025257]\n",
      "Swarm Score: -1896226.3563791108\n",
      "Swarm Position: [-2108.8840873     17.23986647]\n",
      "Swarm Score: -2046224.1781244136\n",
      "Swarm Position: [-2188.08948349    17.65948037]\n",
      "Swarm Score: -2203522.019840015\n",
      "Swarm Position: [-2267.29487968    18.07909427]\n",
      "Swarm Score: -2368287.23539012\n",
      "Swarm Position: [-2346.50027587    18.49870816]\n",
      "Swarm Score: -2540687.178638934\n",
      "Swarm Position: [-2425.70567206    18.91832206]\n",
      "Swarm Score: -2720889.2034506635\n",
      "Swarm Position: [-2504.91106825    19.33793596]\n",
      "Swarm Score: -2909060.6636895128\n",
      "Swarm Position: [-2584.11646444    19.75754986]\n",
      "Swarm Score: -3105368.913219687\n",
      "Swarm Position: [-2663.32186063    20.17716376]\n",
      "Swarm Score: -3309981.3059053915\n",
      "Swarm Position: [-2742.52725682    20.59677765]\n",
      "Swarm Score: -3523065.195610831\n",
      "Swarm Position: [-2821.73265301    21.01639155]\n",
      "Swarm Score: -3744787.9362002127\n",
      "Swarm Position: [-2900.9380492     21.43600545]\n",
      "Swarm Score: -3975316.881537739\n",
      "Swarm Position: [-2980.14344539    21.85561935]\n",
      "Swarm Score: -4214819.385487618\n",
      "Swarm Position: [-3059.34884158    22.27523325]\n",
      "Swarm Score: -4463462.801914053\n",
      "Swarm Position: [-3138.55423777    22.69484714]\n",
      "Swarm Score: -4721414.48468125\n",
      "Swarm Position: [-3217.75963396    23.11446104]\n",
      "Swarm Score: -4988841.7876534145\n",
      "Swarm Position: [-3296.96503015    23.53407494]\n",
      "Swarm Score: -5265912.064694751\n",
      "Swarm Position: [-3376.17042634    23.95368884]\n",
      "Swarm Score: -5552792.669669465\n",
      "Swarm Position: [-3455.37582253    24.37330274]\n",
      "Swarm Score: -5849650.956441763\n",
      "Swarm Position: [-3534.58121872    24.79291663]\n",
      "Swarm Score: -6156654.278875848\n",
      "Swarm Position: [-3613.78661491    25.21253053]\n",
      "Swarm Score: -6473969.990835928\n",
      "Swarm Position: [-3692.9920111     25.63214443]\n",
      "Swarm Score: -6801765.446186205\n",
      "Swarm Position: [-3772.19740729    26.05175833]\n",
      "Swarm Score: -7140207.998790887\n",
      "Swarm Position: [-3851.40280348    26.47137223]\n",
      "Swarm Score: -7489465.002514179\n",
      "Swarm Position: [-3930.60819967    26.89098612]\n",
      "Swarm Score: -7849703.811220285\n",
      "Swarm Position: [-4009.81359586    27.31060002]\n",
      "Swarm Score: -8221091.77877341\n",
      "Swarm Position: [-4089.01899205    27.73021392]\n",
      "Swarm Score: -8603796.259037757\n",
      "Swarm Position: [-4168.22438824    28.14982782]\n",
      "Swarm Score: -8997984.605877541\n",
      "Swarm Position: [-4247.42978443    28.56944172]\n",
      "Swarm Score: -9403824.173156958\n",
      "Swarm Position: [-4326.63518062    28.98905561]\n",
      "Swarm Score: -9821482.314740214\n",
      "Swarm Position: [-4405.84057681    29.40866951]\n",
      "Swarm Score: -10251126.384491514\n",
      "Swarm Position: [-4485.045973      29.82828341]\n",
      "Swarm Score: -10692923.736275071\n",
      "Swarm Position: [-4564.25136919    30.24789731]\n",
      "Swarm Score: -11147041.723955086\n",
      "Swarm Position: [-4643.45676538    30.66751121]\n",
      "Swarm Score: -11613647.701395756\n",
      "Swarm Position: [-4722.66216157    31.0871251 ]\n",
      "Swarm Score: -12092909.022461297\n",
      "Swarm Position: [-4801.86755776    31.506739  ]\n",
      "Swarm Score: -12584993.041015908\n",
      "Swarm Position: [-4881.07295395    31.9263529 ]\n",
      "Swarm Score: -13090067.110923797\n",
      "Swarm Position: [-4960.27835014    32.3459668 ]\n",
      "Swarm Score: -13608298.586049175\n",
      "Swarm Position: [-5039.48374633    32.7655807 ]\n",
      "Swarm Score: -14139854.820256235\n",
      "Swarm Position: [-5118.68914252    33.18519459]\n",
      "Swarm Score: -14684903.167409189\n",
      "Swarm Position: [-5197.89453871    33.60480849]\n",
      "Swarm Score: -15243610.981372243\n",
      "Swarm Position: [-5277.0999349     34.02442239]\n",
      "Swarm Score: -15816145.616009599\n",
      "Swarm Position: [-5356.30533109    34.44403629]\n",
      "Swarm Score: -16402674.425185466\n",
      "Swarm Position: [-5435.51072728    34.86365019]\n",
      "Swarm Score: -17003364.762764048\n",
      "Swarm Position: [-5514.71612347    35.28326408]\n",
      "Swarm Score: -17618383.982609555\n",
      "Swarm Position: [-5593.92151966    35.70287798]\n",
      "Swarm Score: -18247899.43858617\n",
      "Swarm Position: [-5673.12691585    36.12249188]\n",
      "Swarm Score: -18892078.484558135\n",
      "Swarm Position: [-5752.33231204    36.54210578]\n",
      "Swarm Score: -19551088.47438962\n",
      "Swarm Position: [-5831.53770823    36.96171968]\n",
      "Swarm Score: -20225096.761944856\n",
      "Swarm Position: [-5910.74310442    37.38133357]\n",
      "Best score: -20225096.761944856\n",
      "Best score: -20225096.761944856\n"
     ]
    }
   ],
   "source": [
    "_ = pso._initialise()\n",
    "for i in range(100):\n",
    "    _ = pso._update_particle_vector(_)\n",
    "    print(f\"Swarm Score: {_['swarm_eval']}\")\n",
    "    print(f\"Swarm Position: {_['swarm_position']}\")\n",
    "    \n",
    "print(f\"Best score: {_['swarm_eval']}\")\n",
    "print(f\"Best score: {_['swarm_eval']}\")"
   ]
  },
  {
   "cell_type": "code",
   "execution_count": 167,
   "metadata": {
    "ExecuteTime": {
     "end_time": "2018-08-11T05:33:09.193497Z",
     "start_time": "2018-08-11T05:33:09.162160Z"
    }
   },
   "outputs": [
    {
     "data": {
      "text/plain": [
       "{'best_position': array([-5910.74310442,    37.38133357]),\n",
       " 'best_score': -20225096.761944856}"
      ]
     },
     "execution_count": 167,
     "metadata": {},
     "output_type": "execute_result"
    }
   ],
   "source": [
    "pso.optimise(n_iterations=100)"
   ]
  },
  {
   "cell_type": "code",
   "execution_count": null,
   "metadata": {},
   "outputs": [],
   "source": []
  }
 ],
 "metadata": {
  "kernelspec": {
   "display_name": "Python 3",
   "language": "python",
   "name": "python3"
  },
  "language_info": {
   "codemirror_mode": {
    "name": "ipython",
    "version": 3
   },
   "file_extension": ".py",
   "mimetype": "text/x-python",
   "name": "python",
   "nbconvert_exporter": "python",
   "pygments_lexer": "ipython3",
   "version": "3.6.2"
  },
  "toc": {
   "base_numbering": 1,
   "nav_menu": {},
   "number_sections": true,
   "sideBar": true,
   "skip_h1_title": false,
   "title_cell": "Table of Contents",
   "title_sidebar": "Contents",
   "toc_cell": false,
   "toc_position": {},
   "toc_section_display": true,
   "toc_window_display": false
  }
 },
 "nbformat": 4,
 "nbformat_minor": 2
}
